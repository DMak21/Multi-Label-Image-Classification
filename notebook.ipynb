{
  "nbformat": 4,
  "nbformat_minor": 0,
  "metadata": {
    "colab": {
      "name": "Lab1EvalBase.ipynb",
      "version": "0.3.2",
      "provenance": [],
      "collapsed_sections": []
    },
    "kernelspec": {
      "display_name": "Python 3",
      "language": "python",
      "name": "python3"
    },
    "accelerator": "GPU"
  },
  "cells": [
    {
      "metadata": {
        "id": "ICl3w-VOQxQf",
        "colab_type": "code",
        "colab": {}
      },
      "cell_type": "code",
      "source": [
        "import numpy as np\n",
        "import pandas as pd\n",
        "\n",
        "from sklearn.model_selection import train_test_split\n",
        "from sklearn.preprocessing import LabelEncoder\n",
        "from sklearn.preprocessing import OneHotEncoder\n",
        "\n",
        "import cv2 as cv\n",
        "\n",
        "import keras\n",
        "from keras.layers import Conv2D, Flatten, Dense, MaxPool2D,MaxPooling2D, Activation, Dropout, BatchNormalization, Input\n",
        "from keras.models import Sequential, Model\n",
        "\n",
        "from keras.utils import np_utils, to_categorical\n",
        "from keras.callbacks import EarlyStopping, ModelCheckpoint"
      ],
      "execution_count": 0,
      "outputs": []
    },
    {
      "metadata": {
        "id": "hYdHmbFGQxQi",
        "colab_type": "code",
        "colab": {}
      },
      "cell_type": "code",
      "source": [
        "import os\n",
        "import glob"
      ],
      "execution_count": 0,
      "outputs": []
    },
    {
      "metadata": {
        "id": "fxsLry5cR6oX",
        "colab_type": "code",
        "colab": {
          "base_uri": "https://localhost:8080/",
          "height": 153
        },
        "outputId": "619b3d9f-da72-4e2f-f0cd-ff0270a84bd9"
      },
      "cell_type": "code",
      "source": [
        "!apt-get install -y -qq software-properties-common python-software-properties module-init-tools\n",
        "!add-apt-repository -y ppa:alessandro-strada/ppa 2>&1 > /dev/null\n",
        "!apt-get update -qq 2>&1 > /dev/null\n",
        "!apt-get -y install -qq google-drive-ocamlfuse fuse\n",
        "\n",
        "from google.colab import auth\n",
        "auth.authenticate_user()\n",
        "from google.colab import drive\n",
        "drive.mount(\"/content/drive\")"
      ],
      "execution_count": 63,
      "outputs": [
        {
          "output_type": "stream",
          "text": [
            "gpg: keybox '/tmp/tmp3h2ot53u/pubring.gpg' created\n",
            "gpg: /tmp/tmp3h2ot53u/trustdb.gpg: trustdb created\n",
            "gpg: key AD5F235DF639B041: public key \"Launchpad PPA for Alessandro Strada\" imported\n",
            "gpg: Total number processed: 1\n",
            "gpg:               imported: 1\n",
            "Warning: apt-key output should not be parsed (stdout is not a terminal)\n",
            "E: Unable to locate package google-drive-ocamlfuse\n",
            "Mounted at /content/drive\n"
          ],
          "name": "stdout"
        }
      ]
    },
    {
      "metadata": {
        "id": "rCcz4_elQxQm",
        "colab_type": "code",
        "colab": {
          "base_uri": "https://localhost:8080/",
          "height": 323
        },
        "outputId": "02c08a96-1500-47ea-fbe8-2b0c712bd044"
      },
      "cell_type": "code",
      "source": [
        "total_images = 0\n",
        "major = os.listdir(\"drive/My Drive/training\")\n",
        "full_path = []\n",
        "image_labels = []\n",
        "all_labels = ['donuts', 'salad', 'lasagna', 'pancakes', 'pizza', 'risotto', 'cat', 'dog', 'monkey', 'squirrel', 'daisy', 'dandelion', 'sunflower', 'rose', 'tulip']\n",
        "\n",
        "print(\"Loading file structure...\")\n",
        "for a in major:\n",
        "    for b in os.listdir(\"drive/My Drive/training/\" + a):\n",
        "        full_path.append(\"drive/My Drive/training/\" + a + \"/\" + b + \"/\")\n",
        "        \n",
        "print(\"Loading training images...\")\n",
        "train_images = []\n",
        "for i in full_path:\n",
        "    images_in_folder = 0\n",
        "    label = i.split('/')[4]\n",
        "    for file in glob.glob(i + \"*.jpg\"):\n",
        "        img = cv.cvtColor(cv.imread(file),cv.COLOR_BGR2RGB)\n",
        "        img = cv.resize(img, (128,128))\n",
        "        total_images+=1\n",
        "        train_images.append(img)\n",
        "        image_labels.append(all_labels.index(label))\n",
        "        images_in_folder += 1\n",
        "    print(\"The total number of images in %s = %d\" % (i,images_in_folder))\n",
        "print(\"The total number of images in data = \" + str(total_images))"
      ],
      "execution_count": 64,
      "outputs": [
        {
          "output_type": "stream",
          "text": [
            "Loading file structure...\n",
            "Loading training images...\n",
            "The total number of images in drive/My Drive/training/flowers/rose/ = 588\n",
            "The total number of images in drive/My Drive/training/flowers/daisy/ = 577\n",
            "The total number of images in drive/My Drive/training/flowers/dandelion/ = 789\n",
            "The total number of images in drive/My Drive/training/flowers/tulip/ = 744\n",
            "The total number of images in drive/My Drive/training/flowers/sunflower/ = 552\n",
            "The total number of images in drive/My Drive/training/food/salad/ = 354\n",
            "The total number of images in drive/My Drive/training/food/pizza/ = 362\n",
            "The total number of images in drive/My Drive/training/food/lasagna/ = 348\n",
            "The total number of images in drive/My Drive/training/food/risotto/ = 364\n",
            "The total number of images in drive/My Drive/training/food/donuts/ = 101\n",
            "The total number of images in drive/My Drive/training/food/pancakes/ = 356\n",
            "The total number of images in drive/My Drive/training/animals/squirrel/ = 386\n",
            "The total number of images in drive/My Drive/training/animals/cat/ = 289\n",
            "The total number of images in drive/My Drive/training/animals/dog/ = 297\n",
            "The total number of images in drive/My Drive/training/animals/monkey/ = 299\n",
            "The total number of images in data = 6406\n"
          ],
          "name": "stdout"
        }
      ]
    },
    {
      "metadata": {
        "id": "h_rDG6SsQxQp",
        "colab_type": "code",
        "colab": {}
      },
      "cell_type": "code",
      "source": [
        "X_train = np.array(train_images, np.float32) / 255."
      ],
      "execution_count": 0,
      "outputs": []
    },
    {
      "metadata": {
        "id": "va-njipOQxQs",
        "colab_type": "code",
        "colab": {
          "base_uri": "https://localhost:8080/",
          "height": 34
        },
        "outputId": "697c122b-d813-4c83-90f3-1cbed8e98d90"
      },
      "cell_type": "code",
      "source": [
        "image_labels = to_categorical(image_labels)\n",
        "print (image_labels.shape)"
      ],
      "execution_count": 66,
      "outputs": [
        {
          "output_type": "stream",
          "text": [
            "(6406, 15)\n"
          ],
          "name": "stdout"
        }
      ]
    },
    {
      "metadata": {
        "id": "ToTvVAN7QxQv",
        "colab_type": "code",
        "colab": {}
      },
      "cell_type": "code",
      "source": [
        "# Normalization\n",
        "\n",
        "mean_img = X_train.mean(axis=0)\n",
        "std_dev = X_train.std(axis = 0)\n",
        "X_norm = (X_train - mean_img)/ std_dev"
      ],
      "execution_count": 0,
      "outputs": []
    },
    {
      "metadata": {
        "id": "dVie3ITIQxQz",
        "colab_type": "code",
        "colab": {}
      },
      "cell_type": "code",
      "source": [
        "from sklearn.utils import shuffle\n",
        "X_norm, image_labels = shuffle(X_norm, image_labels, random_state=0)"
      ],
      "execution_count": 0,
      "outputs": []
    },
    {
      "metadata": {
        "id": "CV9wUnEsQxQ1",
        "colab_type": "code",
        "colab": {
          "base_uri": "https://localhost:8080/",
          "height": 34
        },
        "outputId": "b110ad19-e3f7-4dfc-ec77-87fc6a4af416"
      },
      "cell_type": "code",
      "source": [
        "Xtrain, Xvalid, Ytrain, Yvalid = train_test_split(X_norm, image_labels, test_size=0.2, random_state=7)\n",
        "print(Xtrain.shape)\n"
      ],
      "execution_count": 69,
      "outputs": [
        {
          "output_type": "stream",
          "text": [
            "(5124, 128, 128, 3)\n"
          ],
          "name": "stdout"
        }
      ]
    },
    {
      "metadata": {
        "id": "QhMAn88cQxQ-",
        "colab_type": "code",
        "colab": {
          "base_uri": "https://localhost:8080/",
          "height": 680
        },
        "outputId": "655eee41-eae6-4252-d386-fd451afb4641"
      },
      "cell_type": "code",
      "source": [
        "model = Sequential()\n",
        "model.add(BatchNormalization(input_shape=Xtrain.shape[1:]))\n",
        "model.add(Conv2D(32, kernel_size=(3, 3), activation= 'relu',padding= 'same'))\n",
        "model.add(Conv2D(32, kernel_size=(3, 3), activation= 'relu'))\n",
        "model.add(MaxPooling2D(pool_size=(3,3)))\n",
        "model.add(Dropout(0.3))\n",
        "\n",
        "model.add(Conv2D(64, kernel_size=(3, 3), activation= 'relu', padding='same'))\n",
        "model.add(Conv2D(64, kernel_size=(3, 3), activation= 'relu'))\n",
        "model.add(MaxPooling2D(pool_size=(3,3)))\n",
        "model.add(Dropout(0.25))\n",
        "\n",
        "model.add(Conv2D(128, kernel_size=(3, 3), activation= 'relu', padding='same'))\n",
        "model.add(Conv2D(128, kernel_size=(3, 3), activation= 'relu'))\n",
        "model.add(MaxPooling2D(pool_size=(3,3)))\n",
        "model.add(Dropout(0.25))\n",
        "\n",
        "model.add(Flatten())\n",
        "model.add(Dropout(0.5))\n",
        "model.add(Dense(15, activation='softmax'))\n",
        "\n",
        "model.summary()\n",
        "\n",
        "model.compile(loss='categorical_crossentropy', optimizer='adam', metrics=['accuracy'])"
      ],
      "execution_count": 73,
      "outputs": [
        {
          "output_type": "stream",
          "text": [
            "_________________________________________________________________\n",
            "Layer (type)                 Output Shape              Param #   \n",
            "=================================================================\n",
            "batch_normalization_6 (Batch (None, 128, 128, 3)       12        \n",
            "_________________________________________________________________\n",
            "conv2d_31 (Conv2D)           (None, 128, 128, 32)      896       \n",
            "_________________________________________________________________\n",
            "conv2d_32 (Conv2D)           (None, 126, 126, 32)      9248      \n",
            "_________________________________________________________________\n",
            "max_pooling2d_16 (MaxPooling (None, 42, 42, 32)        0         \n",
            "_________________________________________________________________\n",
            "dropout_21 (Dropout)         (None, 42, 42, 32)        0         \n",
            "_________________________________________________________________\n",
            "conv2d_33 (Conv2D)           (None, 42, 42, 64)        18496     \n",
            "_________________________________________________________________\n",
            "conv2d_34 (Conv2D)           (None, 40, 40, 64)        36928     \n",
            "_________________________________________________________________\n",
            "max_pooling2d_17 (MaxPooling (None, 13, 13, 64)        0         \n",
            "_________________________________________________________________\n",
            "dropout_22 (Dropout)         (None, 13, 13, 64)        0         \n",
            "_________________________________________________________________\n",
            "conv2d_35 (Conv2D)           (None, 13, 13, 128)       73856     \n",
            "_________________________________________________________________\n",
            "conv2d_36 (Conv2D)           (None, 11, 11, 128)       147584    \n",
            "_________________________________________________________________\n",
            "max_pooling2d_18 (MaxPooling (None, 3, 3, 128)         0         \n",
            "_________________________________________________________________\n",
            "dropout_23 (Dropout)         (None, 3, 3, 128)         0         \n",
            "_________________________________________________________________\n",
            "flatten_6 (Flatten)          (None, 1152)              0         \n",
            "_________________________________________________________________\n",
            "dropout_24 (Dropout)         (None, 1152)              0         \n",
            "_________________________________________________________________\n",
            "dense_6 (Dense)              (None, 15)                17295     \n",
            "=================================================================\n",
            "Total params: 304,315\n",
            "Trainable params: 304,309\n",
            "Non-trainable params: 6\n",
            "_________________________________________________________________\n"
          ],
          "name": "stdout"
        }
      ]
    },
    {
      "metadata": {
        "id": "EGT3i_w3AYZe",
        "colab_type": "code",
        "colab": {}
      },
      "cell_type": "code",
      "source": [
        "early_stops = EarlyStopping(patience=3, monitor='val_acc')"
      ],
      "execution_count": 0,
      "outputs": []
    },
    {
      "metadata": {
        "id": "8R0VwRSKQxRF",
        "colab_type": "code",
        "colab": {
          "base_uri": "https://localhost:8080/",
          "height": 1037
        },
        "outputId": "b704bcca-1427-47f7-837a-d44df86fc15e"
      },
      "cell_type": "code",
      "source": [
        "trained_model = model.fit(Xtrain, Ytrain, epochs = 30, shuffle = True, batch_size = 100)"
      ],
      "execution_count": 72,
      "outputs": [
        {
          "output_type": "stream",
          "text": [
            "Epoch 1/30\n",
            "5124/5124 [==============================] - 12s 2ms/step - loss: 2.4420 - acc: 0.1501\n",
            "Epoch 2/30\n",
            "5124/5124 [==============================] - 11s 2ms/step - loss: 2.0008 - acc: 0.2799\n",
            "Epoch 3/30\n",
            "5124/5124 [==============================] - 11s 2ms/step - loss: 1.7720 - acc: 0.3511\n",
            "Epoch 4/30\n",
            "5124/5124 [==============================] - 11s 2ms/step - loss: 1.6376 - acc: 0.4081\n",
            "Epoch 5/30\n",
            "5124/5124 [==============================] - 11s 2ms/step - loss: 1.5204 - acc: 0.4549\n",
            "Epoch 6/30\n",
            "5124/5124 [==============================] - 11s 2ms/step - loss: 1.4202 - acc: 0.4877\n",
            "Epoch 7/30\n",
            "5124/5124 [==============================] - 11s 2ms/step - loss: 1.3207 - acc: 0.5265\n",
            "Epoch 8/30\n",
            "5124/5124 [==============================] - 11s 2ms/step - loss: 1.2625 - acc: 0.5451\n",
            "Epoch 9/30\n",
            "5124/5124 [==============================] - 11s 2ms/step - loss: 1.1920 - acc: 0.5652\n",
            "Epoch 10/30\n",
            "5124/5124 [==============================] - 11s 2ms/step - loss: 1.1648 - acc: 0.5827\n",
            "Epoch 11/30\n",
            "5124/5124 [==============================] - 11s 2ms/step - loss: 1.1252 - acc: 0.5978\n",
            "Epoch 12/30\n",
            "5124/5124 [==============================] - 11s 2ms/step - loss: 1.0910 - acc: 0.6087\n",
            "Epoch 13/30\n",
            "5124/5124 [==============================] - 11s 2ms/step - loss: 1.0529 - acc: 0.6235\n",
            "Epoch 14/30\n",
            "5124/5124 [==============================] - 11s 2ms/step - loss: 1.0231 - acc: 0.6419\n",
            "Epoch 15/30\n",
            "5124/5124 [==============================] - 11s 2ms/step - loss: 0.9892 - acc: 0.6497\n",
            "Epoch 16/30\n",
            "5124/5124 [==============================] - 11s 2ms/step - loss: 0.9513 - acc: 0.6575\n",
            "Epoch 17/30\n",
            "5124/5124 [==============================] - 11s 2ms/step - loss: 0.9106 - acc: 0.6723\n",
            "Epoch 18/30\n",
            "5124/5124 [==============================] - 11s 2ms/step - loss: 0.8828 - acc: 0.6792\n",
            "Epoch 19/30\n",
            "5124/5124 [==============================] - 11s 2ms/step - loss: 0.8500 - acc: 0.6936\n",
            "Epoch 20/30\n",
            "5124/5124 [==============================] - 11s 2ms/step - loss: 0.8499 - acc: 0.6948\n",
            "Epoch 21/30\n",
            "5124/5124 [==============================] - 11s 2ms/step - loss: 0.8000 - acc: 0.7137\n",
            "Epoch 22/30\n",
            "5124/5124 [==============================] - 11s 2ms/step - loss: 0.8003 - acc: 0.7149\n",
            "Epoch 23/30\n",
            "5124/5124 [==============================] - 11s 2ms/step - loss: 0.7951 - acc: 0.7235\n",
            "Epoch 24/30\n",
            "5124/5124 [==============================] - 11s 2ms/step - loss: 0.7555 - acc: 0.7303\n",
            "Epoch 25/30\n",
            "5124/5124 [==============================] - 11s 2ms/step - loss: 0.7255 - acc: 0.7397\n",
            "Epoch 26/30\n",
            "5124/5124 [==============================] - 11s 2ms/step - loss: 0.7207 - acc: 0.7441\n",
            "Epoch 27/30\n",
            "5124/5124 [==============================] - 11s 2ms/step - loss: 0.7034 - acc: 0.7461\n",
            "Epoch 28/30\n",
            "5124/5124 [==============================] - 11s 2ms/step - loss: 0.6896 - acc: 0.7525\n",
            "Epoch 29/30\n",
            "5124/5124 [==============================] - 11s 2ms/step - loss: 0.6575 - acc: 0.7609\n",
            "Epoch 30/30\n",
            "5124/5124 [==============================] - 11s 2ms/step - loss: 0.6472 - acc: 0.7633\n"
          ],
          "name": "stdout"
        }
      ]
    },
    {
      "metadata": {
        "id": "wILSTcY0dlDG",
        "colab_type": "code",
        "colab": {}
      },
      "cell_type": "code",
      "source": [
        "model.save('model.h5')"
      ],
      "execution_count": 0,
      "outputs": []
    },
    {
      "metadata": {
        "id": "4vWUgwxljyN8",
        "colab_type": "code",
        "colab": {}
      },
      "cell_type": "code",
      "source": [
        "from google.colab import files\n",
        "\n",
        "files.download('model.h5')"
      ],
      "execution_count": 0,
      "outputs": []
    },
    {
      "metadata": {
        "id": "O2rqRYOyj-el",
        "colab_type": "code",
        "colab": {}
      },
      "cell_type": "code",
      "source": [
        ""
      ],
      "execution_count": 0,
      "outputs": []
    }
  ]
}